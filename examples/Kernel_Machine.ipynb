{
 "cells": [
  {
   "cell_type": "markdown",
   "metadata": {},
   "source": [
    "# Hilbert space method"
   ]
  },
  {
   "cell_type": "markdown",
   "metadata": {},
   "source": [
    "## Hilbert space\n",
    "The above problem requires us to search for the best function, but where to go? and how to represent functions? Functions are like vectors, they also form a space, a proper space to study the behavior of function is Hilbert space.\n",
    "\n",
    "**Hilbert space** is a inner product space, this means it has:\n",
    "* addition: $f_1 + f_2\\in\\mathcal{H}$\n",
    "* scalar multiplication: $\\lambda f\\in\\mathcal{H}$\n",
    "* zero element\n",
    "* inner product: $\\langle x,y\\rangle,\\text{with, }\\langle x,x\\rangle\\geq0$, the concept of distance can be induced from the inner product, i.e. $d(x,y)=\\parallel x-y\\parallel=\\langle x-y,x-y\\rangle$\n",
    "\n",
    "Besides these rules, it is also required to be **complete**. \n",
    "\n",
    "To formalized the concepte of completeness, we need to define the **Cauchy sequence**:\n",
    "$$\\forall\\epsilon>0,\\,\\exists N>0,\\,\\forall m,n>N,\\,\\parallel x_m-x_n\\parallel<\\epsilon$$\n",
    "\n",
    "An inner product space with all it's Cauchy sequence converge inside is a Hilbert space."
   ]
  },
  {
   "cell_type": "markdown",
   "metadata": {},
   "source": [
    "### Important definition & theorems:\n",
    "1. Orthogonality: for vectors $x,y\\in\\mathcal{H}$, they are orthogonal if $\\langle x,y\\rangle=0$\n",
    "2. Projection theorem: if $\\mathcal{M}\\in\\mathcal{H}$ is a closed subspace, then:\n",
    "    * for each $x\\in\\mathcal{H}$, there is a unique closest point $y\\in\\mathcal{M}$ such that: $\\parallel x-y\\parallel=\\min_{z\\in\\mathcal{M}}\\parallel x-z\\parallel$\n",
    "    * the point that is closest to $x\\in\\mathcal{H}$ is the unique element in $\\mathcal{M}$ satisfies $(x-y)\\perp\\mathcal{M}$\n",
    "3. Separable Hilbert space: if there exists a finite or countably infinite orthonormal basis\n",
    "4. Bessel's inequality: Let $U=\\{u_{\\alpha}|\\alpha\\in I\\}$ be an orthonormal set in a Hilbert space $\\mathcal{H}$ and $x\\in\\mathcal{H}$, then:\n",
    "    * $\\sum_{\\alpha\\in I}\\,|\\langle u_{\\alpha},x\\rangle|^2\\leq\\parallel x\\parallel^2$\n",
    "    * $x_{U}=\\sum_{\\alpha\\in I}\\,\\langle u_{\\alpha},x\\rangle u_{\\alpha}$ is a convergent sum\n",
    "    * $x-x_{U}\\in U^{\\perp}$\n",
    "5. Lemma: if $U=\\{u_{\\alpha}|\\alpha\\in I\\}$ is an orthonormal subset in a Hilbert space, then the closed linear span $[U]=\\{\\sum_{\\alpha\\in I}\\,c_{\\alpha}u_{\\alpha}|c_{\\alpha}\\in\\mathbb{C},\\,\\sum_{\\alpha\\in I}\\,|c_{\\alpha}|^2<\\infty\\}$ is the smallest closed linear subspace of the Hilbert space.\n",
    "6. Completeness theorem: if $U=\\{u_{\\alpha}|\\alpha\\in I\\}$ is an orthonormal subset in a Hilbert space, then:\n",
    "    * $\\langle u_{\\alpha},x\\rangle=0,\\,\\forall\\alpha\\in I\\Rightarrow\\,x=0$\n",
    "    * $x=\\sum_{\\alpha\\in I}\\,\\langle u_{\\alpha},x\\rangle u_{\\alpha},\\,\\forall x\\in\\mathcal{H}$\n",
    "    * $\\parallel x\\parallel^2=\\sum_{\\alpha\\in I}\\,|\\langle u_{\\alpha},x\\rangle|^2,\\,\\forall x\\in\\mathcal{H}$ (Parseval's identity)\n",
    "    * $[U]=\\mathcal{H}$\n",
    "    * $U$ is the maximal orthonormal set\n",
    "7. Every Hilbert space has an orthonormal basis (implies isomorphism between Hilbert space and $\\mathscr{l}^2$ space)\n",
    "\n",
    "### Sequence space\n",
    "Functions that maps natural number to real/complex number all belongs to the sequence space, e.g. Fourier components of periodic functions in frequency domain. Vectors in this space contains finite/countablly infinite elements, and the associated pointwise addition and scalar multiplication makes it a linear space. \n",
    "\n",
    "$\\mathscr{l}^p$ is a subspace of sequence space, vectors in this space satisfies:\n",
    "$$\\sum_{i=0}^{\\infty}\\,|x_i|^p<\\infty$$\n",
    "it is complete, and hence a Banach space with norm defined by:\n",
    "$$\\parallel x\\parallel_p=\\left(\\sum_{i=0}^{\\infty}\\,|x_i|^p\\right)^{1/p}$$\n",
    "\n",
    "Among these spaces is the $\\mathscr{l}^2$ space, in which the norm could be induced from inner product, and hence a Hilbert space.\n",
    "\n",
    "### Application:\n",
    "1. Best approximation theorem\n",
    "2. Spectral representation"
   ]
  },
  {
   "cell_type": "markdown",
   "metadata": {},
   "source": [
    "## Linear mapping\n",
    "If $\\mathcal{X}$ and $\\mathcal{Y}$ are vector space over $\\mathbb{R}$, the linear mapping is defined to be $\\Lambda:\\mathcal{X}\\to\\mathcal{Y}$, with the property $\\forall x,y\\in\\mathcal{X},\\,\\Lambda(\\alpha x+\\beta y)=\\alpha\\Lambda(x)+\\beta\\Lambda(y)$.\n",
    "\n",
    "The linear map is a homeomorphism, it maintains the structure of input vector space. Additionally, it can be uniformly continuous if to each neighborhood $W$ of $0\\in\\mathcal{Y}$ corresponds a neighborhood $V$ of $0\\in\\mathcal{X}$, such that: \n",
    "$$y-x\\in V,\\text{ implies that},\\,\\Lambda y-\\Lambda x\\in W$$\n",
    "\n",
    "### Bounded linear operator\n",
    "\n",
    "### Continuous dual space\n",
    "For Hilbert space, we are concerning it's continuous linear functionals $\\varphi$, that map the Hilbert space functions to $\\mathbb{R}$. These functionals form a continuous dual space:\n",
    "$$\\forall\\epsilon>0,\\,\\exists\\delta>0,\\text{ if } \\parallel f-f'\\parallel<\\delta,\\,|\\varphi(f)-\\varphi(f')|<\\epsilon$$ \n",
    "\n",
    "### Riesz representation theorem\n",
    "For any element $\\varphi$ in continuous dual space $\\mathcal{H}^*$ of $\\mathcal{H}$, there is an associated element $g\\in\\mathcal{H}$ such that $\\forall f\\in\\mathcal{H}$:\n",
    "$$\\varphi(f)=\\langle f,g\\rangle$$\n",
    "and $\\parallel\\varphi\\parallel_{\\mathcal{H}^*}=\\parallel g\\parallel_{\\mathcal{H}}$. This means there exists an isomorphism between $\\mathcal{H}$ and $\\mathcal{H}^*$, and we can denote $\\varphi$ by $\\varphi_g$.\n",
    "> *Every* element of $\\mathcal{H}^*$ can be written *uniquely* in the inner product form "
   ]
  },
  {
   "cell_type": "markdown",
   "metadata": {},
   "source": [
    "### Reproducing Kernel Hilbert Space\n",
    "**Evaluation functional** for any $x\\in\\mathcal{X}$ (Note: here $\\mathcal{X}$ is the domain of the functions in Hilbert space, e.g. $\\mathbb{R}$), we can define an functional $e_x$: \n",
    "$$e_x(f)=f(x),\\,\\forall f\\in\\mathcal{H}$$\n",
    "This functional is a linear functional in the sense that:\n",
    "$$e_x(\\alpha f+\\beta g)=\\alpha f(x)+\\beta g(x)=\\alpha e_x(f) + \\beta e_x(g)$$\n",
    "\n",
    "If $\\forall x\\in\\mathcal{X}$, $e_x$ is *continuous* at any $f\\in\\mathcal{H}$, then the Hilbert space is called reproducing kernel Hilbert space. Since $e_x$ is a continuous linear functional over the Hilbert space, it belongs to the continuous dual space $\\mathcal{H}^*$, and according to the *Riesz representation theorem*, there is a correponding $K_x\\in\\mathcal{H}$ such that:\n",
    "$$f(x)=e_x(f)=\\langle f,K_x\\rangle,\\,\\forall f\\in\\mathcal{H}$$\n",
    "\n",
    "In this case, $K_x$ needs to be (anti-)symmetric and positive definite:\n",
    "* $K(y,x)\\equiv\\langle K_x,K_y\\rangle=\\langle K_y,K_x\\rangle\\equiv K(x,y)$\n",
    "* $\\parallel\\sum_{i\\in I}\\,c_iK_{x_i}\\parallel\\geq0\\Rightarrow\\sum_{i,j}c_ic_jK(x_i,x_j)\\geq0,\\,\\forall c\\in\\mathbb{R}$\n",
    "\n",
    "$K_x$ is called reproducing kernel ($f(x)=\\langle f,K_x\\rangle$), and every reproducing kernel Hilbert space has a *unique* reproducing kernel.\n",
    "\n",
    "> In Hilbert space setting, we are not concern about how to evaluate a function, the operations in Hilbert space are vector addition, scalar multiplication and vector inner product. Reproducing kernel Hilbert space provide us with the evaluation functional, which will evaluate a function at a given point via inner product, this makes the evaluation process well-defined, hence, if a function can be evaluated, it should belongs to a reproducing kernel Hilbert space.\n",
    "\n",
    "#### Positive definite kernel\n",
    "Above we show that there is a unique positive definite kernel in any reproducing kernel Hilbert space. In fact, given a (strictly) positive definite kernel $K(x_i,x_j)$, we are able to construct a reproducing kernel Hilbert space associate with it.\n",
    "\n",
    "Strict positive definite means that:\n",
    "$$\\forall c\\in\\mathbb{C},\\,\\sum_{i,j}\\,c_ic_jK(x_i,x_j)>0$$\n",
    "Therefore, we can show that the evaluation functional $K_x=K(\\cdot,x)$ constructed from the kernel are linear independent, hence, we can define a linear space spaned by these functionals:\n",
    "$$H_{K}(\\mathcal{X})=\\mathrm{span}\\{K_x,\\,x\\in\\mathcal{X}\\}$$\n",
    "\n",
    "Vectors in this space are $f=\\sum_i\\,c_iK(\\cdot,x_i)$, and the inner product is defined as:\n",
    "$$\\langle f,g\\rangle=\\sum_{i,j}c_ic_jK(x_i,x_j)$$\n",
    "Complete this inner product space we obtain the targeted reproducing kernel Hilbert space, this space consists of functions:\n",
    "$$f=\\sum_{i=0}^{\\infty}\\,c_iK(\\cdot,x_i),\\text{ where}\\,\\sum_{i=0}^{\\infty}\\,c_i^2K(x_i,x_i)<\\infty$$\n",
    "\n",
    "#### Feature map\n",
    "Feature map is a function $\\varphi:\\mathcal{X}\\to\\mathrm{F}$, where $\\mathrm{F}$ is a Hilbert space of functions. We can construct a reproducing kernel Hilbert space directly from space $\\mathrm{F}$:\n",
    "$$H_{\\varphi}=\\{f:\\mathcal{X}\\to\\mathbb{R}|\\,\\exists\\omega\\in\\mathrm{F},\\text{ such that},\\,f(x)=\\langle\\omega,\\varphi_x\\rangle_{\\mathrm{F}},\\,\\forall x\\in\\mathcal{X}\\}$$\n",
    "The reproducing kernel is defined as:\n",
    "$$K(x_i,x_j)=\\langle\\varphi_{x_i},\\varphi_{x_j}\\rangle_{\\mathrm{F}}$$"
   ]
  },
  {
   "cell_type": "markdown",
   "metadata": {},
   "source": [
    "## Native Hilbert space of a reproducing kernel\n",
    "For translation invariance kernel $\\mathcal{K}(x,x')=\\mathcal{K}(x-x')$, the native Hilbert space can be constructed by Fourier transform.\n",
    "\n",
    "If the kernel is a continuous function and $\\mathrm{L}^1$ integrable, the Hilbert space can be constructed as:\n",
    "$$H_{\\mathscr{g}}=\\left\\{\\frac{\\hat{f}}{\\hat{\\mathcal{K}}}\\in\\mathrm{L}^2\\vert\\,f\\in\\mathrm{C}\\cap\\mathrm{L}^2\\right\\}$$\n",
    "the inner product is given by:\n",
    "$$\\langle f,g\\rangle_{\\mathscr{g}}=\\left\\langle\\frac{\\hat{f}}{\\sqrt{\\hat{\\Phi}}},\\frac{\\hat{g}}{\\sqrt{\\hat{\\Phi}}}\\right\\rangle_{\\mathrm{L}^2}$$"
   ]
  },
  {
   "cell_type": "markdown",
   "metadata": {},
   "source": [
    "## Compact operator\n",
    "\n",
    "### Mercer's theorem\n",
    "Given a symmetric, non-negative definite function $K(x,y)$, we can define a linear integral operator $\\hat{T}$, that maps $\\mathcal{H}\\to\\mathcal{H}$\n",
    "$$[\\hat{T}(f)](x)=\\int_{\\mathcal{X}}\\,K(x,y)f(y)\\mathbb{d}x$$\n",
    "The $K(x,y)$ can be represented by the eigenfunctions $\\phi_i\\in\\mathcal{H}$ and eigenvalues $\\lambda_i$ of the integral operator:\n",
    "$$K(x,y)=\\sum_{i=0}^{\\infty}\\,\\lambda_i\\phi_i(x)\\phi_i(y)$$\n",
    "> The above defined feature map in this case can be represented by $(\\varphi(x))_i=\\sqrt{\\lambda_i}\\phi_i(x)$, and $\\mathrm{F}$ is $\\mathscr{l}^2$"
   ]
  },
  {
   "cell_type": "markdown",
   "metadata": {},
   "source": [
    "## Common kernels\n",
    "\n",
    "### Bandlimited kernel\n",
    "The band-limited kernel is defined as:\n",
    "$$\\mathcal{K}(x,x')=\\frac{\\sin(\\gamma(x-x'))}{x-x'}$$\n",
    "It is called band-limited because the function within the associated Hilbert space has cutoff in the frequency space:\n",
    "$$\\begin{eqnarray}\n",
    "f(x) & = & \\langle f,\\mathcal{K}_x\\rangle\\\\\n",
    "& = &\\int_{\\Omega}\\,f(x')\\mathcal{K}(x,x')\\mathbb{d}x'\\\\\n",
    "& = &\\int_{\\Omega}\\,f(x')\\int_{-\\gamma}^{\\gamma}\\,e^{ik(x-x')}\\mathbb{d}k\\\\\n",
    "& = &\\int_{-\\gamma}^{\\gamma}\\,\\hat{f}(k)e^{ikx}\\mathbb{d}k\\\\\n",
    "\\end{eqnarray}$$\n",
    "\n",
    "### Gaussian kernel\n",
    "Gauss kernel is:\n",
    "$$\\mathcal{K}(x,x')=e^{-\\gamma(x-x')^2}$$\n",
    "The reproducing property can be seen by:\n",
    "$$\n",
    "\\begin{eqnarray}\n",
    "f(x) & = & \\langle f,\\mathcal{K}_x\\rangle\\\\\n",
    "& = & \\int\\,\\hat{f}(k)\\frac{\\overline{\\hat{\\mathcal{K}}_x(k)}}{\\hat{\\mathcal{K}}(k)}\\mathbb{d}k\\\\\n",
    "& = & \\int\\,\\hat{f}(k)e^{ikx}\\mathbb{d}k\\\\\n",
    "\\end{eqnarray}\n",
    "$$\n",
    "Note:\n",
    "$$\\hat{\\mathcal{K}}_x(k)=\\int e^{-\\gamma(y-x)^2}e^{-iky}\\mathbb{d}y=e^{-ikx}\\hat{\\mathcal{K}}(k)$$\n",
    "To make the function $\\hat{f}/\\hat{\\mathcal{K}}$ an $\\mathrm{L}^2$ function, the Fourier components of $f$ should decrease more rapidly than $\\mathcal{K}$ when frequency goes to infinity."
   ]
  },
  {
   "cell_type": "markdown",
   "metadata": {},
   "source": []
  },
  {
   "cell_type": "markdown",
   "metadata": {},
   "source": [
    "\n",
    "\n",
    "\n",
    "\n",
    "    "
   ]
  }
 ],
 "metadata": {
  "kernelspec": {
   "display_name": "Python 3",
   "language": "python",
   "name": "python3"
  },
  "language_info": {
   "codemirror_mode": {
    "name": "ipython",
    "version": 3
   },
   "file_extension": ".py",
   "mimetype": "text/x-python",
   "name": "python",
   "nbconvert_exporter": "python",
   "pygments_lexer": "ipython3",
   "version": "3.6.5"
  }
 },
 "nbformat": 4,
 "nbformat_minor": 2
}
