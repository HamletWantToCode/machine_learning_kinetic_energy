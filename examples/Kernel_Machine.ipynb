{
 "cells": [
  {
   "cell_type": "markdown",
   "metadata": {},
   "source": [
    "# Kernel machine"
   ]
  },
  {
   "cell_type": "markdown",
   "metadata": {},
   "source": [
    "## Fit the function\n",
    "Suppose we have some data, and would like to find the underlying relationship between those data, a frequently used method is **function fitting**, we can build function based on polynomials or splines. However, the function we built may not perfectly fit all of the data, errors due to the noise inside or the lack of knowledge about the underlying principals will always appear. Therefore, to get best performance, the function we used to fit the data should give us the least error, the function fitting problem in this case can be stated as follows:\n",
    "$$f^*=\\arg\\min_{f}\\;\\frac{1}{M}\\sum_{i=1}^M\\parallel y_i-f(x_i)\\parallel$$"
   ]
  },
  {
   "cell_type": "markdown",
   "metadata": {},
   "source": [
    "## Hilbert space theory\n",
    "The above problem requires us to search for the best function, but how can we represent functions? Functions are like vectors, they also form a function space, the most popular one is the Hilbert space.\n",
    "\n",
    "**Hilbert space** is a inner product space, this means it has:\n",
    "* addition: $f_1 + f_2\\in\\mathcal{H}$\n",
    "* scalar multiplication: $\\lambda f\\in\\mathcal{H}$\n",
    "* zero element\n",
    "* inner product: $\\langle x,y\\rangle,\\text{with, }\\langle x,x\\rangle\\geq0$, the concept of distance can be induced from the inner product, i.e. $d(x,y)=\\parallel x-y\\parallel=\\langle x-y,x-y\\rangle$\n",
    "\n",
    "Besides the vector space regulations, it is also required to be **complete**. \n",
    "\n",
    "In order to define the completeness, we need first to define the **Cauchy sequence**. A Cauchy sequence in a function space is a sequence $\\{f_n\\}$ which satisfies:\n",
    "$$\\forall\\epsilon>0,\\,\\exists N,\\,\\forall m,n>N,\\,\\parallel f_n-f_m\\parallel<\\epsilon$$\n",
    "\n",
    "Completeness is expressed as: Every Cauchy sequence in the Hilbert space converge $\\lim_{n\\to\\infty}\\,f_n\\in\\mathcal{H}$"
   ]
  },
  {
   "cell_type": "markdown",
   "metadata": {},
   "source": [
    "### How functions are represented in Hilbert space?\n",
    "Every Hilbert space has a set of orthonormal basis, further more, if that basis is countable $B=\\{x_n\\in\\mathcal{H}:\\;n\\in\\mathbb{N}\\}$, the Hilbert space is said to be **separable**, which means:\n",
    "* $B$ is maximal\n",
    "* For any $x\\in\\mathcal{H}$ the condition $\\langle x_n,x\\rangle=0 \\text{ for all }\\;n\\in\\mathbb{N}$ implies $x=0$\n",
    "* Every $x\\in\\mathcal{H}$ has the **Fourier expansion** $x=\\sum_{n=1}^{\\infty}\\langle x_n,x\\rangle x_n$\n",
    "* $\\forall x,y\\in\\mathcal{H}$, the completeness relation $\\langle x,y\\rangle=\\sum_{n=1}^{\\infty}\\langle x,x_n\\rangle\\langle x_n,y\\rangle$\n",
    "* $\\forall x\\in\\mathcal{H}$ the Parseval relation $\\parallel x\\parallel^2=\\sum_{n=1}^{\\infty}|\\langle x_n,x\\rangle|^2$ holds\n",
    "\n",
    "Therefore, a function in separable Hilbert space can be represented as:\n",
    "$$f=\\sum_{n=0}^{\\infty}\\,\\langle f,\\phi_n\\rangle\\phi_n$$"
   ]
  },
  {
   "cell_type": "markdown",
   "metadata": {},
   "source": [
    "### How to evaluate a function?\n",
    "We can evaluate a function at a given feasible point, this can also be done by inner product in Hilbert space. Start from **Riesz theorem**:\n",
    "$$\\forall f\\in\\mathcal{H}^*,\\,\\exists y\\in\\mathcal{H},\\,\\text{such that},\\,f(x)=\\langle x,y\\rangle\\text{ holds }\\forall x\\in\\mathcal{H}$$"
   ]
  },
  {
   "cell_type": "markdown",
   "metadata": {},
   "source": [
    "### Kernels & feature map\n",
    "Feature map is a function that maps the input space to some high dimensional manifold, which we call feature space, and points in feature space will probably be described by linear functions. However, sometimes, the dimension of the feature space will be infinity, and there is no way to conduct computation there, this is the case we introduce kernel. Kernel is a functional that maps input spaces ($\\mathcal{X}\\times\\mathcal{X}$) to real/complex field, this helps us to avoid doing infinite series calculus. The general form of the functional is given by Mercer's theorem:\n",
    "$$\\mathcal{K}(x,x')=\\sum_{n=0}^{\\infty}\\,\\lambda_n\\phi_n(x)\\phi_n(x')$$\n",
    "\n",
    "e.g.1 **Bandlimited kernel**\n",
    "\n",
    "Bandlimited kernel is:\n",
    "$$\\mathcal{K}(x,x') = \\frac{\\sin((2N+1)(x-x')/2)}{\\sin((x-x')/2)}$$\n",
    "the above function can be expanded as:\n",
    "$$\\mathcal{K}(x,x')=\\sum_{k=-n}^{n}e^{i2\\pi k(x-x')}$$\n",
    "if we treate $e^{ikx}$ as eigenfunctions, $1$ as eigenvalues, the integral operator is bandlimited operator:\n",
    "$$\\mathcal{T}(f)=\\int_{-\\infty}^{\\infty}\\,\\mathbb{I}_{\\gamma}f(x)\\mathbb{d}x=\\int_{-\\gamma}^{\\gamma}\\,f(x)\\mathbb{d}x$$\n",
    "This operator will rules out the high frequency terms and make the fitted function less oscillate. \n",
    "\n",
    "> Based on the discrete bandlimited kernel, we can introduce it's continuous counterpart:\n",
    "> $$\\mathcal{K}(x,x')=\\frac{\\sin(\\gamma(x-x'))}{(x-x')}$$\n",
    "\n",
    "The feature map for bandlimited kernel is Fourier transform.\n",
    "\n",
    "e.g.2 **Gauss kernel**\n",
    "\n",
    "Gauss kernel is:\n",
    "$$\\mathcal{K}(x,x')=e^{-\\gamma(x-x')^2}$$\n",
    "if we expand the above formula and using generating function of Hermite polynomial, we obtain:\n",
    "$$\\mathcal{K}(x,x')=e^{-\\gamma x'^2}e^{-\\gamma(x^2-2xx')}=e^{-\\gamma x'^2}\\sum_{n=0}^{\\infty}\\,\\gamma^{n/2}H_n\\left(\\sqrt{\\gamma}x'\\right)\\frac{x^n}{n!}$$\n",
    "this can be viewed as an infinite Taylor series expansion. The Gauss kernel can also be view as a Green's function constructed from Hermite polynomials:\n",
    "$$\\mathcal{K}(x,x')=\\sum_{n=0}^{\\infty}\\,\\lambda_nH_n(x)H_n(x')$$\n",
    "\n",
    "    "
   ]
  }
 ],
 "metadata": {
  "kernelspec": {
   "display_name": "Python 3",
   "language": "python",
   "name": "python3"
  },
  "language_info": {
   "codemirror_mode": {
    "name": "ipython",
    "version": 3
   },
   "file_extension": ".py",
   "mimetype": "text/x-python",
   "name": "python",
   "nbconvert_exporter": "python",
   "pygments_lexer": "ipython3",
   "version": "3.6.5"
  }
 },
 "nbformat": 4,
 "nbformat_minor": 2
}
