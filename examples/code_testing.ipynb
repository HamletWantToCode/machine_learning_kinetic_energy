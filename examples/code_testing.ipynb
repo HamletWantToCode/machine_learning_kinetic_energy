{
 "cells": [
  {
   "cell_type": "code",
   "execution_count": 24,
   "metadata": {},
   "outputs": [],
   "source": [
    "%matplotlib inline\n",
    "import numpy as np\n",
    "import matplotlib.pyplot as plt\n",
    "from importlib import reload\n",
    "import pickle\n",
    "import model\n",
    "import kinetic_energy_functional as Ekf\n",
    "import quantum"
   ]
  },
  {
   "cell_type": "markdown",
   "metadata": {},
   "source": [
    "model tests:"
   ]
  },
  {
   "cell_type": "code",
   "execution_count": 12,
   "metadata": {},
   "outputs": [
    {
     "data": {
      "text/plain": [
       "<module 'model' from '/Users/hongbinren/Documents/program/1D/model.py'>"
      ]
     },
     "execution_count": 12,
     "metadata": {},
     "output_type": "execute_result"
    }
   ],
   "source": [
    "reload(model)"
   ]
  },
  {
   "cell_type": "code",
   "execution_count": 13,
   "metadata": {},
   "outputs": [
    {
     "name": "stdout",
     "output_type": "stream",
     "text": [
      "...processing data\n",
      "train/test data saved...\n",
      "...model training\n",
      "model testing err: 0.0016\n"
     ]
    },
    {
     "name": "stderr",
     "output_type": "stream",
     "text": [
      "/Users/hongbinren/anaconda2/envs/py36/lib/python3.6/site-packages/sklearn/utils/validation.py:433: ComplexWarning: Casting complex values to real discards the imaginary part\n",
      "  array = np.array(array, dtype=dtype, order=order, copy=copy)\n",
      "/Users/hongbinren/anaconda2/envs/py36/lib/python3.6/site-packages/numpy/core/numeric.py:492: ComplexWarning: Casting complex values to real discards the imaginary part\n",
      "  return array(a, dtype, copy=False, order=order)\n"
     ]
    },
    {
     "data": {
      "image/png": "[encoded data removed]",
      "text/plain": [
       "<Figure size 432x288 with 1 Axes>"
      ]
     },
     "metadata": {},
     "output_type": "display_data"
    }
   ],
   "source": [
    "fname = 'densG_T_dT'\n",
    "gamma = 0.1\n",
    "C_ = 1e-4\n",
    "KRR = model.model(fname, gamma, C_)\n",
    "with open('test_data', 'rb') as f:\n",
    "    test_data = pickle.load(f)\n",
    "test_dens, test_Ek, test_dEk = test_data[:, :51], test_data[:, 51], test_data[:, 52:]\n",
    "pred_Ek = KRR.predict(test_dens)\n",
    "plt.plot(test_Ek, pred_Ek, 'bo')\n",
    "plt.plot(test_Ek, test_Ek, 'r')\n",
    "plt.show()"
   ]
  },
  {
   "cell_type": "markdown",
   "metadata": {},
   "source": [
    "Functional test:"
   ]
  },
  {
   "cell_type": "code",
   "execution_count": 15,
   "metadata": {},
   "outputs": [],
   "source": [
    "from sklearn.metrics import mean_squared_error as mse "
   ]
  },
  {
   "cell_type": "code",
   "execution_count": 37,
   "metadata": {},
   "outputs": [
    {
     "data": {
      "text/plain": [
       "<module 'kinetic_energy_functional' from '/Users/hongbinren/Documents/program/1D/kinetic_energy_functional.py'>"
      ]
     },
     "execution_count": 37,
     "metadata": {},
     "output_type": "execute_result"
    }
   ],
   "source": [
    "reload(Ekf)"
   ]
  },
  {
   "cell_type": "code",
   "execution_count": 23,
   "metadata": {},
   "outputs": [
    {
     "name": "stdout",
     "output_type": "stream",
     "text": [
      "(0.001648058589719159+0j)\n",
      "(0.001648058589719159+0j)\n"
     ]
    }
   ],
   "source": [
    "Xi = KRR.X_fit_.T\n",
    "alpha0 = KRR.dual_coef_\n",
    "\n",
    "pred_Ek0 = Ekf.kinetic_dens(test_dens, alpha0, Xi, gamma)\n",
    "err0 = mse(test_Ek, pred_Ek0)\n",
    "\n",
    "pred_Ek1 = Ekf.kinetic_alpha(alpha0, test_dens, Xi, gamma)\n",
    "err1 = mse(test_Ek, pred_Ek1)\n",
    "\n",
    "print(err0)\n",
    "print(err1)"
   ]
  },
  {
   "cell_type": "code",
   "execution_count": 34,
   "metadata": {},
   "outputs": [
    {
     "name": "stdout",
     "output_type": "stream",
     "text": [
      "[[-1.50990935e-05 -6.59233365e-06 -5.10306179e-06 -2.97435828e-06\n",
      "   7.77057025e-07 -3.59982018e-06 -1.42422273e-06 -1.89169920e-06\n",
      "   1.37950244e-06  2.16767456e-06 -3.82855168e-07 -2.97542374e-06\n",
      "  -3.59758675e-06  9.92344111e-07 -1.09893795e-06  6.84704952e-07\n",
      "   7.32750365e-07  9.18583063e-07 -6.49216036e-07 -4.65563433e-07\n",
      "   1.21810272e-07 -1.18165452e-07 -2.21825232e-06  7.67200522e-07\n",
      "   9.35376288e-07 -8.97670901e-08 -2.36350384e-06  1.84487099e-06\n",
      "   7.67200522e-07 -8.54010263e-07 -2.39190221e-06  1.03130497e-06\n",
      "  -4.65563433e-07  1.16977337e-06  4.63835713e-07  2.78003014e-07\n",
      "  -2.24789750e-07 -1.09893795e-06  8.28494094e-08  1.40463411e-06\n",
      "   2.93629182e-06 -1.74709722e-06  8.03432503e-07  4.70007743e-07\n",
      "  -1.43695185e-06 -2.33371743e-06 -3.59982018e-06 -3.31566913e-06\n",
      "   1.11836788e-06 -4.64831444e-06 -7.50182835e-06]]\n"
     ]
    }
   ],
   "source": [
    "from scipy.optimize import approx_fprime\n",
    "\n",
    "n, V0, dmu = 3, 20, 40\n",
    "_, mu, _, _, densG = quantum.quantum(n, V0, dmu)\n",
    "\n",
    "pred_dEk = Ekf.kinetic_deriv_dens(densG.reshape(1, -1), alpha0, Xi, gamma)\n",
    "approx_dEk = approx_fprime(densG, Ekf.kinetic_dens, 1e-6, alpha0, Xi, gamma)\n",
    "print(pred_dEk - approx_dEk)"
   ]
  },
  {
   "cell_type": "code",
   "execution_count": 41,
   "metadata": {},
   "outputs": [
    {
     "name": "stdout",
     "output_type": "stream",
     "text": [
      "[[ 2.78627976e-09  2.26073293e-09 -1.39406109e-09  2.90748076e-09\n",
      "   4.13254209e-10 -1.09419862e-09  7.81117282e-10 -5.48257584e-09\n",
      "   3.74913045e-09  1.70700121e-10 -5.76258885e-09  5.71214820e-09\n",
      "   2.82449381e-09  3.44583806e-10 -6.83297874e-09  6.47731202e-10\n",
      "  -3.93914568e-10 -1.12033582e-09 -1.88260518e-12  6.32597574e-09\n",
      "   3.41233841e-09 -1.47052592e-10 -1.77684845e-09 -6.78772183e-09\n",
      "  -2.61215327e-10  2.21297847e-09 -3.98523814e-09  4.69312256e-10\n",
      "  -2.08961071e-10  1.35639155e-09 -1.13077014e-09 -3.82987297e-09\n",
      "   3.48855866e-09 -2.46322240e-09  2.28131058e-09  2.71145528e-09\n",
      "   2.93391733e-09  2.61864364e-09  1.24325439e-10  2.51654919e-10\n",
      "   6.64955091e-10  1.27803668e-09 -5.30585809e-09  1.28041067e-09\n",
      "   2.97655689e-09  9.62428359e-10 -5.92626692e-09  5.31827316e-09\n",
      "   4.07656642e-09 -2.41870557e-09  3.02935144e-09  8.17851498e-09\n",
      "   1.82372228e-10  3.46328521e-11  1.57627811e-09 -1.95666805e-09\n",
      "   1.39737238e-09 -1.39169787e-09 -3.48717710e-09  1.63640401e-09\n",
      "  -6.10571316e-10  1.98244476e-10 -6.27628283e-10  2.21141438e-10\n",
      "   1.84646587e-09  6.36282693e-10  3.61279451e-10 -5.32851430e-10\n",
      "   2.04802553e-09 -1.21595017e-09 -1.22485710e-09 -4.67906436e-09\n",
      "   1.53074997e-09 -5.70979708e-10  2.56155508e-09  3.78507337e-09\n",
      "  -1.73225123e-09 -6.11193762e-10 -5.75740444e-09 -5.76582448e-10\n",
      "   9.29521682e-10 -2.49626431e-10  2.53129462e-09  4.49200788e-09\n",
      "  -2.23341123e-10 -1.09067244e-09  7.21816940e-10  2.70249156e-09\n",
      "   3.41785755e-09 -3.23437943e-11  2.08375650e-09  9.78081893e-10\n",
      "   2.24491714e-09  4.97626662e-10 -3.04373471e-09 -1.74200099e-10\n",
      "   2.53356380e-09 -3.54445728e-09 -1.33817235e-09  7.21614657e-10\n",
      "  -7.59135088e-10  2.80241974e-09 -2.14158524e-10  3.67230835e-09\n",
      "  -3.52065599e-10 -1.64856451e-09 -2.41369702e-09  3.59622732e-09\n",
      "  -1.39910050e-09  2.14148499e-09 -4.18687141e-09 -7.04821645e-10\n",
      "   2.54363086e-09 -3.73536119e-09 -1.23509292e-09  2.49421861e-09\n",
      "   3.96866429e-09  2.28809988e-09  8.07803491e-10  2.14957718e-10\n",
      "   2.89063329e-09 -2.15283780e-09 -6.36532049e-10  5.27315480e-09\n",
      "  -6.83896273e-10  2.84044399e-09  7.10660975e-10 -1.30160838e-09\n",
      "   2.19784357e-09  7.11750325e-10  2.06633588e-09  4.82450591e-09\n",
      "   1.56144453e-09  1.64188374e-09  2.67358247e-09 -4.55864246e-09\n",
      "   2.30939490e-10 -6.13926243e-10  1.24095900e-10  3.37480877e-09\n",
      "   1.56135782e-09 -1.52227808e-09 -2.27052988e-09 -3.69821063e-10\n",
      "   2.87544927e-09  1.65275138e-09 -1.34917388e-09  3.39088080e-09\n",
      "   5.08288300e-10  1.18209165e-09  2.86303792e-09 -5.32024413e-09\n",
      "   3.70782904e-09 -2.59337762e-09  1.48441698e-09 -3.19548532e-09\n",
      "   1.36398293e-09  6.10052009e-11 -4.24589697e-09  2.29372110e-09\n",
      "   2.66638822e-10 -3.39764683e-09 -2.50258303e-09  5.66688496e-09\n",
      "   3.63175601e-10  2.37022291e-09  2.67756062e-09 -1.32831213e-09\n",
      "   1.49712998e-09 -3.08227111e-10 -7.93644817e-10 -1.10804455e-09\n",
      "   2.18797869e-10 -8.28478841e-10 -5.47494705e-09 -3.99841521e-09\n",
      "  -8.74030848e-10  4.67782368e-10 -5.47560886e-10  4.30070435e-09\n",
      "   4.07822576e-09 -1.86376736e-09  2.41007503e-09 -2.19244078e-09\n",
      "   8.23584756e-10  3.29795413e-10 -7.38341610e-10  1.96206773e-09\n",
      "   4.05513634e-09 -3.18163640e-09 -6.34789921e-09 -6.31033348e-09\n",
      "  -9.88627624e-10  2.43965481e-09 -1.46848866e-10  4.96707131e-09\n",
      "  -1.55782276e-10  1.11501020e-09 -6.81048995e-10  1.77711235e-10\n",
      "   2.72662271e-09 -1.19885524e-09 -2.63974631e-09  3.52244012e-10\n",
      "   2.67886846e-09  1.19151167e-09 -5.67662506e-09 -6.48810949e-10\n",
      "   3.47274098e-09 -5.04826292e-10  8.03362044e-10  2.41686537e-09\n",
      "   4.05865830e-09 -4.53701521e-10 -3.57015528e-10 -1.53888402e-10\n",
      "   1.94502070e-09  5.52702328e-11 -1.29816913e-09  4.06447881e-09\n",
      "   1.46428603e-09  5.07069720e-10  3.05198089e-11 -2.59746669e-11\n",
      "  -4.54891680e-10  3.72930575e-11  1.01167419e-09  5.93741423e-09\n",
      "  -1.00615904e-09  5.82255355e-11  3.51234131e-09 -5.58008573e-09\n",
      "   2.18664986e-09 -6.36840691e-10 -6.96072089e-10  2.28520014e-09\n",
      "  -1.07448128e-09 -1.65995995e-09 -7.18895532e-09 -9.14290088e-10\n",
      "   3.05786452e-09  9.59531010e-10  9.13347842e-10  3.14264370e-09\n",
      "  -5.12023313e-10 -7.46194329e-10  3.78550080e-09 -2.65081945e-09\n",
      "   1.06582398e-09 -3.76478615e-09 -3.70262887e-09  1.13776766e-09\n",
      "  -9.11624443e-10  1.77586867e-09 -5.25983268e-09 -2.72815825e-10\n",
      "   1.70525871e-09  1.50465640e-09  1.76898207e-09  1.41234158e-09\n",
      "   1.29306899e-09 -1.11565601e-09 -7.73403563e-11  1.93929206e-10\n",
      "  -1.98750683e-10  3.95977584e-10 -4.70173944e-09 -2.48487053e-09\n",
      "   2.21707408e-09 -2.14880891e-10 -4.55729221e-09  4.38009007e-09\n",
      "   1.89376737e-09 -5.48316559e-10  1.08218479e-09 -8.17289569e-11\n",
      "   1.30890787e-09 -1.64433522e-10  1.82054227e-09 -1.29035238e-09\n",
      "  -1.70786718e-11  2.11910767e-09  6.33031239e-10  9.44245959e-10\n",
      "  -1.21904953e-09  1.64484315e-10 -2.06847872e-09 -7.11773140e-09\n",
      "   3.05815817e-10  1.57251923e-09  2.50870846e-09 -2.05719219e-10\n",
      "   2.72689837e-09  2.50052723e-09  1.44870482e-09 -2.46946663e-09\n",
      "   1.83618565e-09  7.08360592e-10 -1.20335275e-09  1.73444120e-09\n",
      "   1.60125468e-10  6.72927158e-10 -6.50388565e-09 -1.73342307e-09\n",
      "   1.31119904e-09  2.69038969e-09 -3.85473431e-10  9.54250623e-10\n",
      "  -5.50535173e-11 -3.76536802e-10  1.87405247e-09 -1.38451084e-09\n",
      "   1.13708298e-09  2.79058288e-09 -5.08245002e-10  1.48503743e-09\n",
      "   1.70791603e-09  1.52150803e-09 -1.45752799e-09 -6.78128220e-10\n",
      "   2.78653789e-09  4.05403489e-10  1.21665805e-09 -4.35493186e-09\n",
      "   2.44169263e-09 -1.29354638e-10 -5.79732151e-10  1.92493854e-09\n",
      "   6.31157904e-10  2.32787301e-09 -2.23631141e-09  5.42543743e-09\n",
      "  -1.02626962e-09  2.77843382e-09 -7.15538473e-09 -2.05322093e-09\n",
      "   2.18302376e-10  3.25125316e-10  1.58813940e-09  1.03239878e-09\n",
      "   3.63842734e-10 -5.28122546e-10 -1.53786828e-09 -3.28783101e-09\n",
      "  -1.34173295e-09 -2.64331912e-09  7.06910253e-10  4.11326295e-09\n",
      "   1.79708859e-09  5.74259751e-10 -6.82124734e-09  5.82817905e-10\n",
      "   1.38810297e-09  1.31820854e-09 -1.06201858e-09 -1.11391429e-09\n",
      "   8.93146113e-10  1.15294407e-09  7.44379558e-10 -2.92221869e-09\n",
      "  -4.18741042e-10 -7.31168348e-10 -1.90133809e-09  8.16586132e-10\n",
      "  -1.59439106e-09 -1.73220016e-09  1.43764667e-10 -2.86310653e-09\n",
      "  -2.17322049e-10  1.23405686e-09 -1.82734827e-10  9.52106172e-11\n",
      "   3.77866405e-09  2.81397949e-09 -1.14487231e-09 -5.98975081e-09\n",
      "   1.99661809e-09 -1.79387283e-10 -5.11425879e-09  4.37863507e-09\n",
      "  -8.11170797e-10  2.06447837e-09 -3.57073970e-09  3.78595943e-09\n",
      "   1.37892164e-09 -1.79877990e-09 -2.01369144e-10  1.71000913e-09\n",
      "  -9.21572929e-10 -3.07686820e-09 -6.80518752e-10  1.02254205e-10\n",
      "   3.18867199e-09  9.77685599e-10 -2.19488216e-09  6.73872347e-09\n",
      "   2.89536978e-09  4.24748570e-10  1.52036839e-09 -1.55040003e-09]]\n"
     ]
    }
   ],
   "source": [
    "pred_dEkda = Ekf.kinetic_deriv_alpha(densG.reshape(1, -1), Xi, gamma)\n",
    "approx_dEkda = approx_fprime(alpha0, Ekf.kinetic_alpha, 1e-4, densG.reshape(1, -1), Xi, gamma)\n",
    "print(pred_dEkda - approx_dEkda)"
   ]
  },
  {
   "cell_type": "markdown",
   "metadata": {},
   "source": [
    "Loss function:"
   ]
  },
  {
   "cell_type": "code",
   "execution_count": 44,
   "metadata": {},
   "outputs": [],
   "source": [
    "import optimization as opt"
   ]
  },
  {
   "cell_type": "code",
   "execution_count": 47,
   "metadata": {},
   "outputs": [
    {
     "data": {
      "text/plain": [
       "<module 'optimization' from '/Users/hongbinren/Documents/program/1D/optimization.py'>"
      ]
     },
     "execution_count": 47,
     "metadata": {},
     "output_type": "execute_result"
    }
   ],
   "source": [
    "reload(opt)"
   ]
  },
  {
   "cell_type": "code",
   "execution_count": 48,
   "metadata": {},
   "outputs": [
    {
     "name": "stdout",
     "output_type": "stream",
     "text": [
      "2496.7779902461\n"
     ]
    }
   ],
   "source": [
    "with open('train_data', 'rb') as f1:\n",
    "    train_data = pickle.load(f1)\n",
    "train_dens, train_Ek, train_dEk = train_data[:, :51], train_data[:, 51], train_data[:, 52:]\n",
    "\n",
    "c = 1\n",
    "loss = opt.loss(alpha0, c, gamma, Xi, train_dens, train_Ek, train_dEk)\n",
    "print(loss)"
   ]
  },
  {
   "cell_type": "code",
   "execution_count": 50,
   "metadata": {},
   "outputs": [
    {
     "name": "stdout",
     "output_type": "stream",
     "text": [
      "[-2.89779136e-04 -3.14516190e-04 -2.51422402e-04 -1.74500576e-04\n",
      " -2.77035904e-04 -3.77089577e-04 -2.17389443e-04 -4.54586919e-04\n",
      " -4.71171015e-04 -5.59817672e-04 -3.20157266e-04 -3.90028920e-04\n",
      " -1.56138904e-04 -2.05273758e-04 -1.56232974e-04 -2.92842195e-04\n",
      " -1.97079730e-04 -3.38879128e-04 -4.74041277e-04 -1.60460980e-04\n",
      " -2.60793967e-04 -1.88526861e-04 -4.30179353e-04 -1.22864815e-04\n",
      " -1.27218378e-04 -3.88777380e-04 -1.71532220e-04 -4.05609517e-04\n",
      " -1.96191914e-04 -1.89385437e-04 -3.39779416e-04 -5.03156792e-04\n",
      " -2.91013275e-04 -3.87622772e-04 -2.02373085e-04 -4.40851576e-04\n",
      " -4.94866756e-04 -2.92648656e-04 -4.33314184e-04 -3.84751645e-04\n",
      " -9.89022050e-05 -4.96447869e-04 -2.58731937e-04 -4.83930663e-04\n",
      " -2.99669140e-04 -2.16077503e-04 -4.27417020e-04 -3.15110485e-04\n",
      " -1.91578764e-04 -2.41421362e-04 -1.38057360e-04 -1.94546585e-04\n",
      " -3.26497843e-04 -5.01892479e-04 -2.53825989e-04 -4.60854025e-04\n",
      " -9.35837757e-05 -4.51447239e-04 -1.56204886e-04 -2.62948760e-04\n",
      " -1.27973830e-04 -1.79929298e-04 -3.85792191e-04 -4.28452040e-04\n",
      " -3.02115178e-04 -2.90741993e-04 -3.39164714e-04 -3.42970422e-04\n",
      " -1.13831352e-04 -1.79637921e-04 -3.63119637e-04 -2.62232641e-04\n",
      " -1.53897487e-04 -4.47929571e-04 -5.15321344e-04 -2.49435748e-04\n",
      " -4.91127023e-04 -2.68384075e-04 -3.90557359e-04 -2.62215852e-04\n",
      " -4.16336296e-04 -1.13085357e-04 -4.73544254e-04 -1.65869219e-04\n",
      " -1.86736023e-04 -3.49747575e-04 -3.57632734e-04 -2.24619488e-04\n",
      " -3.94652022e-04 -4.44577034e-04 -5.66538613e-04 -1.15982247e-04\n",
      " -4.36780898e-04 -1.67711248e-04 -2.79083756e-04 -3.15876221e-04\n",
      " -1.24641868e-04 -2.56347024e-04 -1.91549956e-04 -3.16130243e-04\n",
      " -3.44928464e-04 -2.04226862e-04 -1.72064410e-04 -3.06632196e-04\n",
      " -4.29040405e-04 -1.43166729e-04 -1.58651575e-04 -4.46214195e-04\n",
      " -2.45302594e-04 -2.59959877e-04 -4.63597180e-04 -2.59499515e-04\n",
      " -4.52453350e-04 -1.67232507e-04 -2.47930795e-04 -2.93423256e-04\n",
      " -3.25916812e-04 -1.24134470e-04 -3.35537409e-04 -3.35661790e-04\n",
      " -4.21452986e-04 -4.43448788e-04 -4.12022933e-04 -2.52538044e-04\n",
      " -2.68967856e-04 -4.16283302e-04 -2.80881217e-04 -3.88371157e-04\n",
      " -4.09687768e-04 -4.13630359e-04 -2.82580052e-04 -1.75778281e-04\n",
      " -3.31646341e-04 -2.45777900e-04 -5.05904230e-04 -2.59813006e-04\n",
      " -3.55314138e-04 -1.22593256e-04 -1.55774796e-04 -4.13636872e-04\n",
      " -1.42245389e-04 -3.95777725e-04 -1.71890574e-04 -1.64816668e-04\n",
      " -1.47743518e-04 -4.59605432e-04 -5.31479485e-04 -2.57911343e-04\n",
      " -3.50918977e-04 -5.63457608e-04 -4.06582424e-04 -2.69279098e-04\n",
      " -3.64001308e-04 -3.92903073e-04 -1.57522686e-04 -1.66488047e-04\n",
      " -1.90712003e-04 -2.29840109e-04 -2.20730282e-04 -3.45896188e-04\n",
      " -2.96494892e-04 -2.09409347e-04 -5.49961239e-04 -3.25361467e-04\n",
      " -2.14041885e-04 -1.32359597e-04 -2.55667512e-04 -2.75703264e-04\n",
      " -2.44235943e-04 -1.70021134e-04 -3.37687487e-04 -2.55013673e-04\n",
      " -1.48860304e-04 -3.15218145e-04 -3.04232704e-04 -1.75006741e-04\n",
      " -1.95493927e-04 -2.89176547e-04 -2.60223692e-04 -3.88529680e-04\n",
      " -4.67044343e-04 -3.98106882e-04 -2.88436496e-04 -1.78304322e-04\n",
      " -1.81777632e-04 -3.46347362e-04 -3.39992093e-04 -1.91333034e-04\n",
      " -2.53521339e-04 -3.96504634e-04 -2.85500813e-04 -4.65375609e-04\n",
      " -1.43812056e-04 -1.19323634e-04 -2.67282086e-04 -4.70823443e-04\n",
      " -3.13082221e-04 -2.62434657e-04 -2.49160340e-04 -1.64339034e-04\n",
      " -2.04793875e-04 -3.57983461e-04 -4.00624251e-04 -1.83602027e-04\n",
      " -3.67955065e-04 -2.42891826e-04 -1.88403134e-04 -1.17549850e-04\n",
      " -2.52977339e-04 -2.58867478e-04 -2.58749507e-04 -4.59231211e-04\n",
      " -4.63351237e-04 -3.69653993e-04 -4.69086568e-04 -1.80594385e-04\n",
      " -2.04050651e-04 -3.35484566e-04 -2.22492438e-04 -1.29541978e-04\n",
      " -2.16704804e-04 -3.43021800e-04 -1.96052953e-04 -3.21896849e-04\n",
      " -1.91113138e-04 -1.97810959e-04 -2.44573480e-04 -2.14701443e-04\n",
      " -2.90767094e-04 -2.92005679e-04 -1.18068951e-04 -1.71065535e-04\n",
      " -3.56442659e-04 -3.96366483e-04 -3.28086200e-04 -2.30331332e-04\n",
      " -4.35226487e-04 -5.15970246e-04 -2.60966051e-04 -3.87097824e-04\n",
      " -3.63037526e-04 -2.79735389e-04 -2.64800273e-04 -3.75449811e-04\n",
      " -3.69162087e-04 -3.12159718e-04 -3.87371656e-04 -3.13376350e-04\n",
      " -2.28567858e-04 -1.90015019e-04 -5.38145485e-04 -3.26900750e-04\n",
      " -3.55349669e-04 -4.72959809e-04 -3.55907423e-04 -1.14500679e-04\n",
      " -1.01208071e-04 -4.20098561e-04 -3.32954346e-04 -3.06011644e-04\n",
      " -2.36093391e-04 -4.84670085e-04 -2.43157131e-04 -4.41880902e-04\n",
      " -3.34199160e-04 -4.07575835e-04 -4.10889097e-04 -1.24420718e-04\n",
      " -2.24794741e-04 -4.10770098e-04 -1.48708207e-04 -1.16945973e-04\n",
      " -2.63432201e-04 -1.17061101e-04 -4.66536595e-04 -4.20108938e-04\n",
      " -2.38734045e-04 -1.60228938e-04 -2.55566825e-04 -2.66783678e-04\n",
      " -4.71248142e-04 -4.86216885e-04 -1.46677809e-04 -1.67483488e-04\n",
      " -3.11694468e-04 -3.81766857e-04 -4.94947261e-04 -1.86960396e-04\n",
      " -5.07030442e-04 -2.09738465e-04 -2.52902220e-04 -3.56538375e-04\n",
      " -3.20304143e-04 -2.10163154e-04 -2.41648596e-04 -1.37240309e-04\n",
      " -4.82482953e-04 -2.26883229e-04 -2.90368133e-04 -1.75751018e-04\n",
      " -2.95452708e-04 -1.87668033e-04 -2.00408965e-04 -4.17175374e-04\n",
      " -4.76239454e-04 -3.32682007e-04 -4.61422681e-04 -1.17303778e-04\n",
      " -4.39000739e-04 -3.48886509e-04 -3.58486541e-04 -2.32076637e-04\n",
      " -2.59677047e-04 -2.12481592e-04 -3.37567529e-04 -2.93407860e-04\n",
      " -4.59027316e-04 -3.36345890e-04 -3.42016472e-04 -1.82349707e-04\n",
      " -3.96063024e-04 -2.48263800e-04 -1.64916744e-04 -4.73576555e-04\n",
      " -1.54316694e-04 -2.21331771e-04 -2.57785659e-04 -1.71088739e-04\n",
      " -5.03435546e-04 -4.02257634e-04 -1.36664606e-04 -4.77417214e-04\n",
      " -3.51092851e-04 -4.73710773e-04 -2.20730465e-04 -4.66516510e-04\n",
      " -4.34641789e-04 -8.72768997e-05 -2.93915771e-04 -1.56555936e-04\n",
      " -2.61961860e-04 -2.56464293e-04 -4.09040126e-04 -5.34091128e-04\n",
      " -2.18460576e-04 -2.01746971e-04 -1.42990551e-04 -2.47386690e-04\n",
      " -3.52928234e-04 -2.60132352e-04 -3.86463668e-04 -3.88543541e-04\n",
      " -1.52334776e-04 -3.76084682e-04 -4.47176806e-04 -1.79670415e-04\n",
      " -2.53351148e-04 -2.85707016e-04 -3.77889009e-04 -1.89573285e-04\n",
      " -3.80078327e-04 -1.28611600e-04 -1.48625196e-04 -4.09803382e-04\n",
      " -4.72376942e-04 -1.13704007e-04 -4.76122092e-04 -2.85702397e-04\n",
      " -4.10240871e-04 -2.58511384e-04 -2.30747699e-04 -4.45980908e-04\n",
      " -2.27025652e-04 -3.58770241e-04 -3.38097283e-04 -2.03942335e-04\n",
      " -4.70895737e-04 -2.12281501e-04 -2.53677518e-04 -1.65273180e-04\n",
      " -4.47323828e-04 -1.41356066e-04 -2.06584649e-04 -1.64539850e-04\n",
      " -2.78954410e-04 -3.29937524e-04 -3.16863785e-04 -2.55988573e-04\n",
      " -2.52316771e-04 -1.27080556e-04 -2.81160746e-04 -2.57152899e-04\n",
      " -5.03388757e-04 -2.04340168e-04 -4.15909504e-04 -4.97645951e-04\n",
      " -1.60542687e-04 -4.00968756e-04 -2.29812731e-04 -5.30088436e-04]\n"
     ]
    }
   ],
   "source": [
    "dloss = opt.loss_deriv(alpha0, c, gamma, Xi, train_dens, train_Ek, train_dEk)\n",
    "dloss_approx = approx_fprime(alpha0, opt.loss, 1e-6, c, gamma, Xi, train_dens, train_Ek, train_dEk)\n",
    "print(dloss - dloss_approx)"
   ]
  },
  {
   "cell_type": "markdown",
   "metadata": {},
   "source": [
    "quantum:"
   ]
  },
  {
   "cell_type": "code",
   "execution_count": 72,
   "metadata": {},
   "outputs": [
    {
     "data": {
      "text/plain": [
       "<module 'quantum' from '/Users/hongbinren/Documents/program/1D/quantum.py'>"
      ]
     },
     "execution_count": 72,
     "metadata": {},
     "output_type": "execute_result"
    }
   ],
   "source": [
    "reload(quantum)"
   ]
  },
  {
   "cell_type": "code",
   "execution_count": 73,
   "metadata": {},
   "outputs": [
    {
     "data": {
      "image/png": "[encoded data removed]",
      "text/plain": [
       "<Figure size 432x288 with 1 Axes>"
      ]
     },
     "metadata": {},
     "output_type": "display_data"
    }
   ],
   "source": [
    "n, V0, dmu = 3, 20, 40\n",
    "Ek, mu, en_band, Vq, densG = quantum.quantum(n, V0, dmu)\n",
    "En = en_band.T\n",
    "K = np.linspace(0, np.pi, 81)\n",
    "for i in range(4):\n",
    "    plt.plot(K, En[i], 'b')\n",
    "plt.axhline(xmin=0, xmax=np.pi, y=mu, color='r', linestyle='--')\n",
    "plt.show()"
   ]
  },
  {
   "cell_type": "code",
   "execution_count": 74,
   "metadata": {},
   "outputs": [
    {
     "data": {
      "text/plain": [
       "36.02735485743796"
      ]
     },
     "execution_count": 74,
     "metadata": {},
     "output_type": "execute_result"
    }
   ],
   "source": [
    "Ek"
   ]
  },
  {
   "cell_type": "code",
   "execution_count": 75,
   "metadata": {},
   "outputs": [
    {
     "data": {
      "text/plain": [
       "2.7777777777777777"
      ]
     },
     "execution_count": 75,
     "metadata": {},
     "output_type": "execute_result"
    }
   ],
   "source": [
    "densG[0]"
   ]
  },
  {
   "cell_type": "markdown",
   "metadata": {},
   "source": [
    "derivative accuracy:"
   ]
  },
  {
   "cell_type": "code",
   "execution_count": 88,
   "metadata": {},
   "outputs": [],
   "source": [
    "with open('optimAlpha', 'rb') as f2:\n",
    "    alpha_optim = pickle.load(f2)\n",
    "\n",
    "pred_dEk0 = Ekf.kinetic_deriv_dens(test_dens, alpha0, Xi, gamma)\n",
    "df_err0 = np.linalg.norm((pred_dEk0 - test_dEk), axis=1)**2\n",
    "\n",
    "pred_dEk1 = Ekf.kinetic_deriv_dens(test_dens, alpha_optim, Xi, gamma)\n",
    "df_err1 = np.linalg.norm((pred_dEk1 - test_dEk), axis=1)**2"
   ]
  },
  {
   "cell_type": "code",
   "execution_count": 89,
   "metadata": {},
   "outputs": [
    {
     "data": {
      "image/png": "[encoded data removed]",
      "text/plain": [
       "<Figure size 432x288 with 1 Axes>"
      ]
     },
     "metadata": {},
     "output_type": "display_data"
    }
   ],
   "source": [
    "plt.plot(range(100), df_err0, 'b')\n",
    "plt.plot(range(100), df_err1, 'r')\n",
    "plt.show()"
   ]
  },
  {
   "cell_type": "code",
   "execution_count": 90,
   "metadata": {},
   "outputs": [
    {
     "name": "stdout",
     "output_type": "stream",
     "text": [
      "(0.001648058589719159+0j)\n",
      "(0.0023593714707410385+0j)\n"
     ]
    }
   ],
   "source": [
    "pred_Ek0 = Ekf.kinetic_dens(test_dens, alpha0, Xi, gamma)\n",
    "f_err0 = mse(test_Ek, pred_Ek0)\n",
    "\n",
    "pred_Ek1 = Ekf.kinetic_dens(test_dens, alpha_optim, Xi, gamma)\n",
    "f_err1 = mse(test_Ek, pred_Ek1)\n",
    "\n",
    "print(f_err0)\n",
    "print(f_err1)"
   ]
  },
  {
   "cell_type": "code",
   "execution_count": null,
   "metadata": {},
   "outputs": [],
   "source": []
  }
 ],
 "metadata": {
  "kernelspec": {
   "display_name": "Python 3",
   "language": "python",
   "name": "python3"
  },
  "language_info": {
   "codemirror_mode": {
    "name": "ipython",
    "version": 3
   },
   "file_extension": ".py",
   "mimetype": "text/x-python",
   "name": "python",
   "nbconvert_exporter": "python",
   "pygments_lexer": "ipython3",
   "version": "3.6.5"
  }
 },
 "nbformat": 4,
 "nbformat_minor": 2
}
